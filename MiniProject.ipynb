{
 "cells": [
  {
   "cell_type": "code",
   "execution_count": 1,
   "metadata": {
    "collapsed": false
   },
   "outputs": [
    {
     "data": {
      "text/plain": [
       "1.6.0"
      ]
     },
     "execution_count": 1,
     "metadata": {},
     "output_type": "execute_result"
    }
   ],
   "source": [
    "sc.version"
   ]
  },
  {
   "cell_type": "code",
   "execution_count": 1,
   "metadata": {
    "collapsed": false
   },
   "outputs": [],
   "source": [
    "val data = sc.textFile(\"data.bam\")"
   ]
  },
  {
   "cell_type": "code",
   "execution_count": 24,
   "metadata": {
    "collapsed": false
   },
   "outputs": [],
   "source": [
    "val e = data.map(line => { \n",
    "    val linesSplit = line.mkString.split(\"\t\")\n",
    "    linesSplit(9)\n",
    "    })"
   ]
  },
  {
   "cell_type": "code",
   "execution_count": 177,
   "metadata": {
    "collapsed": false
   },
   "outputs": [
    {
     "name": "stdout",
     "output_type": "stream",
     "text": [
      "91\n",
      "91\n",
      "CCTCTGGATC\n",
      "CTCTGGATCT\n",
      "TCTGGATCTG\n",
      "CTGGATCTGA\n",
      "TGGATCTGAG\n",
      "GGATCTGAGT\n",
      "GATCTGAGTC\n",
      "ATCTGAGTCA\n",
      "TCTGAGTCAC\n",
      "CTGAGTCACC\n",
      "TGAGTCACCT\n",
      "GAGTCACCTC\n",
      "AGTCACCTCT\n",
      "GTCACCTCTC\n",
      "TCACCTCTCT\n",
      "CACCTCTCTA\n",
      "ACCTCTCTAT\n",
      "CCTCTCTATT\n",
      "CTCTCTATTA\n",
      "TCTCTATTAA\n",
      "CTCTATTAAC\n",
      "TCTATTAACT\n",
      "CTATTAACTT\n",
      "TATTAACTTT\n",
      "ATTAACTTTC\n",
      "TTAACTTTCA\n",
      "TAACTTTCAG\n",
      "AACTTTCAGT\n",
      "ACTTTCAGTT\n",
      "CTTTCAGTTT\n",
      "TTTCAGTTTT\n",
      "TTCAGTTTTT\n",
      "TCAGTTTTTT\n",
      "CAGTTTTTTC\n",
      "AGTTTTTTCT\n",
      "GTTTTTTCTC\n",
      "TTTTTTCTCT\n",
      "TTTTTCTCTT\n",
      "TTTTCTCTTA\n",
      "TTTCTCTTAA\n",
      "TTCTCTTAAA\n",
      "TCTCTTAAAA\n",
      "CTCTTAAAAA\n",
      "TCTTAAAAAT\n",
      "CTTAAAAATT\n",
      "TTAAAAATTC\n",
      "TAAAAATTCT\n",
      "AAAAATTCTG\n",
      "AAAATTCTGT\n",
      "AAATTCTGTT\n",
      "AATTCTGTTC\n",
      "ATTCTGTTCA\n",
      "TTCTGTTCAA\n",
      "TCTGTTCAAA\n",
      "CTGTTCAAAG\n",
      "TGTTCAAAGT\n",
      "GTTCAAAGTG\n",
      "TTCAAAGTGG\n",
      "TCAAAGTGGG\n",
      "CAAAGTGGGA\n",
      "AAAGTGGGAT\n",
      "AAGTGGGATA\n",
      "AGTGGGATAG\n",
      "GTGGGATAGT\n",
      "TGGGATAGTT\n",
      "GGGATAGTTT\n",
      "GGATAGTTTA\n",
      "GATAGTTTAC\n",
      "ATAGTTTACT\n",
      "TAGTTTACTC\n",
      "AGTTTACTCA\n",
      "GTTTACTCAA\n",
      "TTTACTCAAT\n",
      "TTACTCAATA\n",
      "TACTCAATAT\n",
      "ACTCAATATT\n",
      "CTCAATATTT\n",
      "TCAATATTTT\n",
      "CAATATTTTG\n",
      "AATATTTTGG\n",
      "ATATTTTGGT\n",
      "TATTTTGGTT\n",
      "ATTTTGGTTT\n",
      "TTTTGGTTTC\n",
      "TTTGGTTTCT\n",
      "TTGGTTTCTC\n",
      "TGGTTTCTCT\n",
      "GGTTTCTCTC\n",
      "GTTTCTCTCA\n",
      "TTTCTCTCAG\n",
      "TTCTCTCAGT\n"
     ]
    }
   ],
   "source": [
    "def kmer(k : Integer, string: String)={\n",
    " def ab(a: String) : List[String]={\n",
    "    if (a.size >= k){\n",
    "    List(a take 10) ++ ab((a drop 1).mkString);\n",
    "}else{\n",
    " List()\n",
    "}}\n",
    " ab(string)\n",
    "}\n",
    "val ke = kmer(10,e.take(1)(0))\n",
    "println(ke.size)\n",
    "println(ke.distinct.size)\n",
    "ke foreach println"
   ]
  },
  {
   "cell_type": "code",
   "execution_count": 37,
   "metadata": {
    "collapsed": false
   },
   "outputs": [
    {
     "name": "stdout",
     "output_type": "stream",
     "text": [
      "(17288,AAAAAAAAAA)\n",
      "(15661,TTTTTTTTTT)\n",
      "(7396,GGGGGGGGGG)\n",
      "(7079,CCCCCCCCCC)\n",
      "(1262,AAAAAAAAAT)\n",
      "(1260,TAAAAAAAAA)\n",
      "(1183,ATTTTTTTTT)\n",
      "(1171,TTTTTTTTTA)\n",
      "(1033,AAAAAAAAAG)\n",
      "(1019,CTTTTTTTTT)\n",
      "(9,GGCCCCCACG)\n",
      "(9,GTGCGGTGGG)\n",
      "(9,TGGTGTTGTT)\n",
      "(9,GCCCCCCGAC)\n",
      "(9,TCCCCTCCGC)\n",
      "(9,GGGAAGCCCA)\n",
      "(9,AAGCGGGGAG)\n",
      "(9,CCCATCTGCC)\n",
      "(9,TCTTGCCCTC)\n",
      "(9,GGAGAATTTT)\n"
     ]
    }
   ],
   "source": [
    " val counted = e.flatMap(_.sliding(k).map(n => (n,1L))).reduceByKey(_ + _).map(_.swap).sortByKey(ascending = false)\n",
    " val filtered_kmers = counted.filter(x => x._1 < 200 && x._1 < 10)\n",
    "counted.take(10) foreach println\n",
    "filtered_kmers.take(10) foreach println"
   ]
  },
  {
   "cell_type": "code",
   "execution_count": null,
   "metadata": {
    "collapsed": true
   },
   "outputs": [],
   "source": []
  }
 ],
 "metadata": {
  "kernelspec": {
   "display_name": "Apache_Toree",
   "language": "",
   "name": "apache_toree"
  },
  "language_info": {
   "name": "scala"
  }
 },
 "nbformat": 4,
 "nbformat_minor": 0
}
